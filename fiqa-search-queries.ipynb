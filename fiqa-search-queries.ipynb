{
 "cells": [
  {
   "cell_type": "code",
   "execution_count": 1,
   "id": "eff40fec",
   "metadata": {},
   "outputs": [
    {
     "name": "stderr",
     "output_type": "stream",
     "text": [
      "PyTerrier 0.10.0 has loaded Terrier 5.8 (built by craigm on 2023-11-01 18:05) and terrier-helper 0.0.8\n",
      "\n",
      "No etc/terrier.properties, using terrier.default.properties for bootstrap configuration.\n"
     ]
    }
   ],
   "source": [
    "import pyterrier as pt\n",
    "pt.init()\n",
    "p = print"
   ]
  },
  {
   "cell_type": "code",
   "execution_count": 5,
   "id": "782140f8",
   "metadata": {},
   "outputs": [
    {
     "name": "stderr",
     "output_type": "stream",
     "text": [
      "Some weights of ColBERT were not initialized from the model checkpoint at bert-base-uncased and are newly initialized: ['linear.weight']\n",
      "You should probably TRAIN this model on a down-stream task to be able to use it for predictions and inference.\n"
     ]
    },
    {
     "name": "stdout",
     "output_type": "stream",
     "text": [
      "[Apr 18, 00:22:54] #> Loading model checkpoint.\n",
      "[Apr 18, 00:22:54] #> Loading checkpoint /local/scratch3/rchan31/ICTIR_Paper/explore_terrier_colbert/colbert.dnn\n",
      "[Apr 18, 00:22:55] #> checkpoint['epoch'] = 0\n",
      "[Apr 18, 00:22:55] #> checkpoint['batch'] = 44500\n"
     ]
    }
   ],
   "source": [
    "from pyterrier_colbert.ranking import ColBERTFactory\n",
    "\n",
    "factory = ColBERTFactory(\"http://www.dcs.gla.ac.uk/~craigm/ecir2021-tutorial/colbert_model_checkpoint.zip\", \n",
    "                         \"./pyterrier-index-fiqa\",\n",
    "                         \"fiqa_colbert_pyterrier\", faiss_partitions=100)"
   ]
  },
  {
   "cell_type": "code",
   "execution_count": 6,
   "id": "e5002661",
   "metadata": {},
   "outputs": [
    {
     "name": "stdout",
     "output_type": "stream",
     "text": [
      "[Apr 18, 00:22:56] #> Loading the FAISS index from ./pyterrier-index-fiqa/fiqa_colbert_pyterrier/ivfpq.100.faiss ..\n",
      "[Apr 18, 00:22:56] #> Building the emb2pid mapping..\n",
      "[Apr 18, 00:22:56] len(self.emb2pid) = 7104521\n",
      "Loading reranking index, memtype=mem\n"
     ]
    },
    {
     "name": "stderr",
     "output_type": "stream",
     "text": [
      "Loading index shards to memory: 100%|█████████████████████████████████████████████████████████████████████████████████████████████████████████████████████| 1/1 [00:00<00:00,  1.04shard/s]\n"
     ]
    }
   ],
   "source": [
    "e2e = factory.end_to_end()"
   ]
  },
  {
   "cell_type": "code",
   "execution_count": 8,
   "id": "470cf896",
   "metadata": {},
   "outputs": [
    {
     "data": {
      "text/html": [
       "<div>\n",
       "<style scoped>\n",
       "    .dataframe tbody tr th:only-of-type {\n",
       "        vertical-align: middle;\n",
       "    }\n",
       "\n",
       "    .dataframe tbody tr th {\n",
       "        vertical-align: top;\n",
       "    }\n",
       "\n",
       "    .dataframe thead th {\n",
       "        text-align: right;\n",
       "    }\n",
       "</style>\n",
       "<table border=\"1\" class=\"dataframe\">\n",
       "  <thead>\n",
       "    <tr style=\"text-align: right;\">\n",
       "      <th></th>\n",
       "      <th>qid</th>\n",
       "      <th>query</th>\n",
       "      <th>docid</th>\n",
       "      <th>query_toks</th>\n",
       "      <th>query_embs</th>\n",
       "      <th>score</th>\n",
       "      <th>docno</th>\n",
       "      <th>rank</th>\n",
       "    </tr>\n",
       "  </thead>\n",
       "  <tbody>\n",
       "    <tr>\n",
       "      <th>591</th>\n",
       "      <td>1</td>\n",
       "      <td>apple stock prices</td>\n",
       "      <td>51092</td>\n",
       "      <td>[tensor(101), tensor(1), tensor(6207), tensor(...</td>\n",
       "      <td>[[tensor(-0.0160), tensor(0.1082), tensor(-0.0...</td>\n",
       "      <td>24.304279</td>\n",
       "      <td>531480</td>\n",
       "      <td>0</td>\n",
       "    </tr>\n",
       "    <tr>\n",
       "      <th>129</th>\n",
       "      <td>1</td>\n",
       "      <td>apple stock prices</td>\n",
       "      <td>33149</td>\n",
       "      <td>[tensor(101), tensor(1), tensor(6207), tensor(...</td>\n",
       "      <td>[[tensor(-0.0160), tensor(0.1082), tensor(-0.0...</td>\n",
       "      <td>23.899603</td>\n",
       "      <td>343638</td>\n",
       "      <td>1</td>\n",
       "    </tr>\n",
       "    <tr>\n",
       "      <th>1452</th>\n",
       "      <td>1</td>\n",
       "      <td>apple stock prices</td>\n",
       "      <td>37359</td>\n",
       "      <td>[tensor(101), tensor(1), tensor(6207), tensor(...</td>\n",
       "      <td>[[tensor(-0.0160), tensor(0.1082), tensor(-0.0...</td>\n",
       "      <td>23.700493</td>\n",
       "      <td>388431</td>\n",
       "      <td>2</td>\n",
       "    </tr>\n",
       "    <tr>\n",
       "      <th>814</th>\n",
       "      <td>1</td>\n",
       "      <td>apple stock prices</td>\n",
       "      <td>18947</td>\n",
       "      <td>[tensor(101), tensor(1), tensor(6207), tensor(...</td>\n",
       "      <td>[[tensor(-0.0160), tensor(0.1082), tensor(-0.0...</td>\n",
       "      <td>22.732872</td>\n",
       "      <td>196683</td>\n",
       "      <td>3</td>\n",
       "    </tr>\n",
       "    <tr>\n",
       "      <th>36</th>\n",
       "      <td>1</td>\n",
       "      <td>apple stock prices</td>\n",
       "      <td>41051</td>\n",
       "      <td>[tensor(101), tensor(1), tensor(6207), tensor(...</td>\n",
       "      <td>[[tensor(-0.0160), tensor(0.1082), tensor(-0.0...</td>\n",
       "      <td>22.642132</td>\n",
       "      <td>427747</td>\n",
       "      <td>4</td>\n",
       "    </tr>\n",
       "  </tbody>\n",
       "</table>\n",
       "</div>"
      ],
      "text/plain": [
       "     qid               query  docid  \\\n",
       "591    1  apple stock prices  51092   \n",
       "129    1  apple stock prices  33149   \n",
       "1452   1  apple stock prices  37359   \n",
       "814    1  apple stock prices  18947   \n",
       "36     1  apple stock prices  41051   \n",
       "\n",
       "                                             query_toks  \\\n",
       "591   [tensor(101), tensor(1), tensor(6207), tensor(...   \n",
       "129   [tensor(101), tensor(1), tensor(6207), tensor(...   \n",
       "1452  [tensor(101), tensor(1), tensor(6207), tensor(...   \n",
       "814   [tensor(101), tensor(1), tensor(6207), tensor(...   \n",
       "36    [tensor(101), tensor(1), tensor(6207), tensor(...   \n",
       "\n",
       "                                             query_embs      score   docno  \\\n",
       "591   [[tensor(-0.0160), tensor(0.1082), tensor(-0.0...  24.304279  531480   \n",
       "129   [[tensor(-0.0160), tensor(0.1082), tensor(-0.0...  23.899603  343638   \n",
       "1452  [[tensor(-0.0160), tensor(0.1082), tensor(-0.0...  23.700493  388431   \n",
       "814   [[tensor(-0.0160), tensor(0.1082), tensor(-0.0...  22.732872  196683   \n",
       "36    [[tensor(-0.0160), tensor(0.1082), tensor(-0.0...  22.642132  427747   \n",
       "\n",
       "      rank  \n",
       "591      0  \n",
       "129      1  \n",
       "1452     2  \n",
       "814      3  \n",
       "36       4  "
      ]
     },
     "execution_count": 8,
     "metadata": {},
     "output_type": "execute_result"
    }
   ],
   "source": [
    "e2e.search(\"apple stock prices\").head(5)"
   ]
  },
  {
   "cell_type": "code",
   "execution_count": null,
   "id": "f5d7d5e9",
   "metadata": {},
   "outputs": [],
   "source": []
  }
 ],
 "metadata": {
  "kernelspec": {
   "display_name": "Python 3 (ipykernel)",
   "language": "python",
   "name": "python3"
  },
  "language_info": {
   "codemirror_mode": {
    "name": "ipython",
    "version": 3
   },
   "file_extension": ".py",
   "mimetype": "text/x-python",
   "name": "python",
   "nbconvert_exporter": "python",
   "pygments_lexer": "ipython3",
   "version": "3.8.13"
  }
 },
 "nbformat": 4,
 "nbformat_minor": 5
}
