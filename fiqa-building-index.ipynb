{
 "cells": [
  {
   "cell_type": "code",
   "execution_count": 1,
   "id": "8023f2f5",
   "metadata": {},
   "outputs": [
    {
     "name": "stderr",
     "output_type": "stream",
     "text": [
      "PyTerrier 0.10.0 has loaded Terrier 5.8 (built by craigm on 2023-11-01 18:05) and terrier-helper 0.0.8\n",
      "\n",
      "No etc/terrier.properties, using terrier.default.properties for bootstrap configuration.\n"
     ]
    }
   ],
   "source": [
    "import pyterrier as pt\n",
    "pt.init()\n",
    "p = print"
   ]
  },
  {
   "cell_type": "code",
   "execution_count": 2,
   "id": "97b34523",
   "metadata": {},
   "outputs": [
    {
     "data": {
      "text/html": [
       "<div>\n",
       "<style scoped>\n",
       "    .dataframe tbody tr th:only-of-type {\n",
       "        vertical-align: middle;\n",
       "    }\n",
       "\n",
       "    .dataframe tbody tr th {\n",
       "        vertical-align: top;\n",
       "    }\n",
       "\n",
       "    .dataframe thead th {\n",
       "        text-align: right;\n",
       "    }\n",
       "</style>\n",
       "<table border=\"1\" class=\"dataframe\">\n",
       "  <thead>\n",
       "    <tr style=\"text-align: right;\">\n",
       "      <th></th>\n",
       "      <th>qid</th>\n",
       "      <th>query</th>\n",
       "    </tr>\n",
       "  </thead>\n",
       "  <tbody>\n",
       "    <tr>\n",
       "      <th>0</th>\n",
       "      <td>0</td>\n",
       "      <td>what is considered a business expense on a bus...</td>\n",
       "    </tr>\n",
       "    <tr>\n",
       "      <th>1</th>\n",
       "      <td>4</td>\n",
       "      <td>business expense car insurance deductible for ...</td>\n",
       "    </tr>\n",
       "    <tr>\n",
       "      <th>2</th>\n",
       "      <td>5</td>\n",
       "      <td>starting a new online business</td>\n",
       "    </tr>\n",
       "    <tr>\n",
       "      <th>3</th>\n",
       "      <td>6</td>\n",
       "      <td>business day and due date for bills</td>\n",
       "    </tr>\n",
       "    <tr>\n",
       "      <th>4</th>\n",
       "      <td>7</td>\n",
       "      <td>new business owner how do taxes work for the b...</td>\n",
       "    </tr>\n",
       "    <tr>\n",
       "      <th>...</th>\n",
       "      <td>...</td>\n",
       "      <td>...</td>\n",
       "    </tr>\n",
       "    <tr>\n",
       "      <th>6643</th>\n",
       "      <td>4102</td>\n",
       "      <td>how can i determine if my rate of return is go...</td>\n",
       "    </tr>\n",
       "    <tr>\n",
       "      <th>6644</th>\n",
       "      <td>3566</td>\n",
       "      <td>where can i buy stocks if i only want to inves...</td>\n",
       "    </tr>\n",
       "    <tr>\n",
       "      <th>6645</th>\n",
       "      <td>94</td>\n",
       "      <td>using credit card points to pay for tax deduct...</td>\n",
       "    </tr>\n",
       "    <tr>\n",
       "      <th>6646</th>\n",
       "      <td>2551</td>\n",
       "      <td>how to find cheaper alternatives to a traditio...</td>\n",
       "    </tr>\n",
       "    <tr>\n",
       "      <th>6647</th>\n",
       "      <td>2399</td>\n",
       "      <td>where do web sites get foreign exchange curren...</td>\n",
       "    </tr>\n",
       "  </tbody>\n",
       "</table>\n",
       "<p>6648 rows × 2 columns</p>\n",
       "</div>"
      ],
      "text/plain": [
       "       qid                                              query\n",
       "0        0  what is considered a business expense on a bus...\n",
       "1        4  business expense car insurance deductible for ...\n",
       "2        5                     starting a new online business\n",
       "3        6                business day and due date for bills\n",
       "4        7  new business owner how do taxes work for the b...\n",
       "...    ...                                                ...\n",
       "6643  4102  how can i determine if my rate of return is go...\n",
       "6644  3566  where can i buy stocks if i only want to inves...\n",
       "6645    94  using credit card points to pay for tax deduct...\n",
       "6646  2551  how to find cheaper alternatives to a traditio...\n",
       "6647  2399  where do web sites get foreign exchange curren...\n",
       "\n",
       "[6648 rows x 2 columns]"
      ]
     },
     "execution_count": 2,
     "metadata": {},
     "output_type": "execute_result"
    }
   ],
   "source": [
    "pt.get_dataset(\"irds:beir/fiqa\").get_topics()"
   ]
  },
  {
   "cell_type": "code",
   "execution_count": 3,
   "id": "843f51a2",
   "metadata": {},
   "outputs": [],
   "source": [
    "dataset = pt.datasets.get_dataset(\"irds:beir/fiqa\")"
   ]
  },
  {
   "cell_type": "code",
   "execution_count": 4,
   "id": "c4adb8a9",
   "metadata": {},
   "outputs": [],
   "source": [
    "from pyterrier_colbert.indexing import ColBERTIndexer\n",
    "indexer = ColBERTIndexer(\"http://www.dcs.gla.ac.uk/~craigm/ecir2021-tutorial/colbert_model_checkpoint.zip\", \n",
    "                         \"./pyterrier-index-fiqa\",\n",
    "                         \"fiqa_colbert_pyterrier\", chunksize=3)"
   ]
  },
  {
   "cell_type": "code",
   "execution_count": 5,
   "id": "5cbda604",
   "metadata": {},
   "outputs": [
    {
     "name": "stderr",
     "output_type": "stream",
     "text": [
      "beir/fiqa documents:   0%|                                                                                                                                       | 0/57638 [00:00<?, ?it/s]"
     ]
    },
    {
     "name": "stdout",
     "output_type": "stream",
     "text": [
      "[Apr 18, 00:15:49] [0] \t\t #> Local args.bsize = 128\n",
      "[Apr 18, 00:15:49] [0] \t\t #> args.index_root = ./pyterrier-index-fiqa\n",
      "[Apr 18, 00:15:49] [0] \t\t #> self.possible_subset_sizes = [69905]\n"
     ]
    },
    {
     "name": "stderr",
     "output_type": "stream",
     "text": [
      "Some weights of ColBERT were not initialized from the model checkpoint at bert-base-uncased and are newly initialized: ['linear.weight']\n",
      "You should probably TRAIN this model on a down-stream task to be able to use it for predictions and inference.\n"
     ]
    },
    {
     "name": "stdout",
     "output_type": "stream",
     "text": [
      "[Apr 18, 00:15:53] #> Loading model checkpoint.\n",
      "[Apr 18, 00:15:53] #> Loading checkpoint /local/scratch3/rchan31/ICTIR_Paper/explore_terrier_colbert/colbert.dnn\n",
      "[Apr 18, 00:15:54] #> checkpoint['epoch'] = 0\n",
      "[Apr 18, 00:15:54] #> checkpoint['batch'] = 44500\n",
      "\n",
      "\n",
      "\n",
      "\n",
      "[Apr 18, 00:15:54] #> Note: Output directory ./pyterrier-index-fiqa already exists\n",
      "\n",
      "\n",
      "\n",
      "\n",
      "[Apr 18, 00:15:54] #> Note: Output directory ./pyterrier-index-fiqa/fiqa_colbert_pyterrier already exists\n",
      "\n",
      "\n"
     ]
    },
    {
     "name": "stderr",
     "output_type": "stream",
     "text": [
      "beir/fiqa documents: 100%|████████████████████████████████████████████████████████████████████████████████████████████████████████████████████████| 57638/57638 [00:05<00:00, 10833.47it/s]\n"
     ]
    },
    {
     "name": "stdout",
     "output_type": "stream",
     "text": [
      "[Apr 18, 00:19:36] [0] \t\t #> Completed batch #0 (starting at passage #0) \t\tPassages/min: 15.6k (overall),  15.6k (this encoding),  69071.8M (this saving)\n",
      "[Apr 18, 00:19:37] [0] \t\t [NOTE] Done with local share.\n",
      "[Apr 18, 00:19:37] [0] \t\t #> Joining saver thread.\n",
      "[Apr 18, 00:19:39] [0] \t\t #> Saved batch #0 to ./pyterrier-index-fiqa/fiqa_colbert_pyterrier/0.pt \t\t Saving Throughput = 1.2M passages per minute.\n",
      "\n",
      "#> num_embeddings = 7104521\n",
      "[Apr 18, 00:19:39] #> Starting..\n",
      "[Apr 18, 00:19:39] #> Processing slice #1 of 1 (range 0..1).\n",
      "[Apr 18, 00:19:39] #> Will write to ./pyterrier-index-fiqa/fiqa_colbert_pyterrier/ivfpq.100.faiss.\n",
      "[Apr 18, 00:19:39] #> Loading ./pyterrier-index-fiqa/fiqa_colbert_pyterrier/0.sample ...\n",
      "#> Sample has shape (355226, 128)\n",
      "[Apr 18, 00:19:39] Preparing resources for 1 GPUs.\n",
      "[Apr 18, 00:19:39] #> Training with the vectors...\n",
      "[Apr 18, 00:19:39] #> Training now (using 1 GPUs)...\n",
      "0.32515692710876465\n",
      "14.276038885116577\n",
      "0.00014591217041015625\n",
      "[Apr 18, 00:19:53] Done training!\n",
      "\n",
      "[Apr 18, 00:19:53] #> Indexing the vectors...\n",
      "[Apr 18, 00:19:53] #> Loading ('./pyterrier-index-fiqa/fiqa_colbert_pyterrier/0.pt', None, None) (from queue)...\n",
      "[Apr 18, 00:19:56] #> Processing a sub_collection with shape (7104521, 128)\n",
      "[Apr 18, 00:19:56] Add data with shape (7104521, 128) (offset = 0)..\n",
      "  IndexIVFPQ size 0 -> GpuIndexIVFPQ indicesOptions=0 usePrecomputed=0 useFloat16=1 reserveVecs=33554432\n",
      "7077888/7104521 (2.081 s)   Flush indexes to CPU\n",
      "add(.) time: 2.440 s \t\t--\t\t index.ntotal = 7104521\n",
      "[Apr 18, 00:19:59] Done indexing!\n",
      "[Apr 18, 00:19:59] Writing index to ./pyterrier-index-fiqa/fiqa_colbert_pyterrier/ivfpq.100.faiss ...\n",
      "[Apr 18, 00:19:59] \n",
      "\n",
      "Done! All complete (for slice #1 of 1)!\n",
      "#> Faiss encoding complete\n",
      "#> Indexing complete, Time elapsed 250.50 seconds\n"
     ]
    }
   ],
   "source": [
    "indexer.index(dataset.get_corpus_iter())"
   ]
  },
  {
   "cell_type": "code",
   "execution_count": null,
   "id": "abec66a6",
   "metadata": {},
   "outputs": [],
   "source": []
  }
 ],
 "metadata": {
  "kernelspec": {
   "display_name": "Python 3 (ipykernel)",
   "language": "python",
   "name": "python3"
  },
  "language_info": {
   "codemirror_mode": {
    "name": "ipython",
    "version": 3
   },
   "file_extension": ".py",
   "mimetype": "text/x-python",
   "name": "python",
   "nbconvert_exporter": "python",
   "pygments_lexer": "ipython3",
   "version": "3.8.13"
  }
 },
 "nbformat": 4,
 "nbformat_minor": 5
}
